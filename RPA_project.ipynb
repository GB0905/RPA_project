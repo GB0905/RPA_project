{
 "cells": [
  {
   "attachments": {},
   "cell_type": "markdown",
   "metadata": {},
   "source": [
    "# 상품 크롤링"
   ]
  },
  {
   "cell_type": "code",
   "execution_count": 6,
   "metadata": {},
   "outputs": [
    {
     "ename": "ModuleNotFoundError",
     "evalue": "No module named 'webdriver_manager'",
     "output_type": "error",
     "traceback": [
      "\u001b[1;31m---------------------------------------------------------------------------\u001b[0m",
      "\u001b[1;31mModuleNotFoundError\u001b[0m                       Traceback (most recent call last)",
      "Cell \u001b[1;32mIn[6], line 6\u001b[0m\n\u001b[0;32m      4\u001b[0m \u001b[39mfrom\u001b[39;00m \u001b[39mselenium\u001b[39;00m\u001b[39m.\u001b[39;00m\u001b[39mwebdriver\u001b[39;00m\u001b[39m.\u001b[39;00m\u001b[39mcommon\u001b[39;00m\u001b[39m.\u001b[39;00m\u001b[39mkeys\u001b[39;00m \u001b[39mimport\u001b[39;00m Keys\n\u001b[0;32m      5\u001b[0m \u001b[39mfrom\u001b[39;00m \u001b[39mselenium\u001b[39;00m\u001b[39m.\u001b[39;00m\u001b[39mwebdriver\u001b[39;00m\u001b[39m.\u001b[39;00m\u001b[39mcommon\u001b[39;00m\u001b[39m.\u001b[39;00m\u001b[39mby\u001b[39;00m \u001b[39mimport\u001b[39;00m By\n\u001b[1;32m----> 6\u001b[0m \u001b[39mfrom\u001b[39;00m \u001b[39mwebdriver_manager\u001b[39;00m\u001b[39m.\u001b[39;00m\u001b[39mchrome\u001b[39;00m \u001b[39mimport\u001b[39;00m ChromeDriverManager\n\u001b[0;32m      7\u001b[0m \u001b[39mimport\u001b[39;00m \u001b[39mtime\u001b[39;00m\n\u001b[0;32m      8\u001b[0m \u001b[39mimport\u001b[39;00m \u001b[39mpyautogui\u001b[39;00m\n",
      "\u001b[1;31mModuleNotFoundError\u001b[0m: No module named 'webdriver_manager'"
     ]
    }
   ],
   "source": [
    "from selenium import webdriver\n",
    "from selenium.webdriver.chrome.service import Service\n",
    "from selenium.webdriver.chrome.options import Options\n",
    "from selenium.webdriver.common.keys import Keys\n",
    "from selenium.webdriver.common.by import By\n",
    "from webdriver_manager.chrome import ChromeDriverManager\n",
    "import time\n",
    "import pyautogui\n",
    "\n",
    "options = Options() # 크롬 옵션 객체 생성\n",
    "options.add_experimental_option(\"detach\", True) # 크롬 창을 종료해도 프로세스가 종료되지 않도록 설정\n",
    "service = Service(ChromeDriverManager().install())  # 크롬 드라이버 경로 설정\n",
    "driver = webdriver.Chrome(service=service, options=options) # 크롬 드라이버 객체 생성\n",
    "\n",
    "url = 'https://shopping.naver.com/home'\n",
    "driver.maximize_window()\n",
    "driver.get(url) # 사이트 연결하기\n",
    "print(driver.title)     # 타이틀 읽어오기\n",
    "driver.implicitly_wait(2) # 2초 대기하기\n",
    "\n",
    "input_product = pyautogui.prompt(\"검색할 상품명 입력\")\n",
    "\n",
    "driver.find_element(By.CLASS_NAME, '_searchInput_search_text_3CUDs').send_keys(input_product)\n",
    "driver.find_element(By.CLASS_NAME, '_searchInput_button_search_1n1aw').click()\n",
    "\n",
    "driver.implicitly_wait(2) # 2초 대기하기\n",
    "# 스크롤 전 높이\n",
    "b_height = driver.execute_script(\"return window.scrollY\")\n",
    "\n",
    "# 무한 스크롤 처리\n",
    "while True:\n",
    "    try:\n",
    "        #스크롤 내리기\n",
    "        more = driver.find_element(By.CSS_SELECTOR, \"body\").send_keys(Keys.END)\n",
    "        time.sleep(1)\n",
    "\n",
    "        after_height = driver.execute_script(\"return window.scrollY\")\n",
    "\n",
    "        if b_height == after_height:\n",
    "            break\n",
    "\n",
    "        b_height = after_height\n",
    "\n",
    "    except:\n",
    "        break\n",
    "\n",
    "product = driver.find_elements(By.CLASS_NAME, 'product_item__MDtDF')\n",
    "\n",
    "\n",
    "import pandas as pd\n",
    "\n",
    "data = []\n",
    "\n",
    "for i, t in enumerate(product):\n",
    "  name = t.find_element(By.CSS_SELECTOR, 'div.product_title__Mmw2K').text\n",
    "  price = t.find_element(By.CSS_SELECTOR, 'span.price_num__S2p_v').text \n",
    "  reviews = t.find_element(By.CSS_SELECTOR, 'em.product_num__fafe5').text + \"개\"\n",
    "  link = t.find_element(By.CSS_SELECTOR, 'div.product_title__Mmw2K > a').get_attribute(\"href\")\n",
    "  data.append([name, price, reviews, link])\n",
    "  print(name, price, reviews, link, '\\n')\n",
    "  \n",
    "\n",
    "df = pd.DataFrame(data, columns=['제품명', '가격','리뷰', '링크'])\n",
    "df.to_excel(input_product+'.xlsx', index=False)\n",
    "\n",
    "\n",
    "driver.quit()"
   ]
  },
  {
   "attachments": {},
   "cell_type": "markdown",
   "metadata": {},
   "source": [
    "# 엑셀 크기 조정"
   ]
  },
  {
   "cell_type": "code",
   "execution_count": 7,
   "metadata": {},
   "outputs": [
    {
     "ename": "ModuleNotFoundError",
     "evalue": "No module named 'openpyxl'",
     "output_type": "error",
     "traceback": [
      "\u001b[1;31m---------------------------------------------------------------------------\u001b[0m",
      "\u001b[1;31mModuleNotFoundError\u001b[0m                       Traceback (most recent call last)",
      "Cell \u001b[1;32mIn[7], line 1\u001b[0m\n\u001b[1;32m----> 1\u001b[0m \u001b[39mfrom\u001b[39;00m \u001b[39mopenpyxl\u001b[39;00m \u001b[39mimport\u001b[39;00m Workbook\n\u001b[0;32m      2\u001b[0m \u001b[39mfrom\u001b[39;00m \u001b[39mopenpyxl\u001b[39;00m\u001b[39m.\u001b[39;00m\u001b[39mutils\u001b[39;00m \u001b[39mimport\u001b[39;00m get_column_letter\n\u001b[0;32m      4\u001b[0m \u001b[39m# 엑셀 파일 생성\u001b[39;00m\n",
      "\u001b[1;31mModuleNotFoundError\u001b[0m: No module named 'openpyxl'"
     ]
    }
   ],
   "source": [
    "\n",
    "from openpyxl import Workbook\n",
    "from openpyxl.utils import get_column_letter\n",
    "\n",
    "# 엑셀 파일 생성\n",
    "workbook = Workbook()\n",
    "worksheet = workbook.active\n",
    "\n",
    "# 데이터프레임 내용을 엑셀에 저장\n",
    "header = df.columns.tolist()\n",
    "worksheet.append(header)\n",
    "for _, row in df.iterrows():\n",
    "    worksheet.append(row.tolist())\n",
    "\n",
    "# 열의 폭 자동 조정\n",
    "for column_cells in worksheet.columns:\n",
    "    max_length = 0\n",
    "    column = [cell for cell in column_cells]\n",
    "    column_name = column[0].column_letter\n",
    "    for cell in column:\n",
    "        try:\n",
    "            if len(str(cell.value)) > max_length:\n",
    "                max_length = len(str(cell.value))\n",
    "        except:\n",
    "            pass\n",
    "    adjusted_width = (max_length + 2) * 1.2\n",
    "    worksheet.column_dimensions[column_name].width = adjusted_width\n",
    "\n",
    "# 엑셀 파일 저장\n",
    "workbook.save(input_product+'.xlsx')"
   ]
  },
  {
   "attachments": {},
   "cell_type": "markdown",
   "metadata": {},
   "source": [
    "# 메일 전송"
   ]
  },
  {
   "cell_type": "code",
   "execution_count": null,
   "metadata": {},
   "outputs": [
    {
     "ename": "SMTPAuthenticationError",
     "evalue": "(535, b'5.7.1 Username and Password not accepted RCJ0xrrASNKGP95NCCsjOg - nsmtp')",
     "output_type": "error",
     "traceback": [
      "\u001b[1;31m---------------------------------------------------------------------------\u001b[0m",
      "\u001b[1;31mSMTPAuthenticationError\u001b[0m                   Traceback (most recent call last)",
      "Cell \u001b[1;32mIn[6], line 15\u001b[0m\n\u001b[0;32m     13\u001b[0m smtp\u001b[39m.\u001b[39mehlo()\n\u001b[0;32m     14\u001b[0m smtp\u001b[39m.\u001b[39mstarttls()\n\u001b[1;32m---> 15\u001b[0m smtp\u001b[39m.\u001b[39;49mlogin(\u001b[39m'\u001b[39;49m\u001b[39mID\u001b[39;49m\u001b[39m'\u001b[39;49m, \u001b[39m'\u001b[39;49m\u001b[39mPW\u001b[39;49m\u001b[39m'\u001b[39;49m) \u001b[39m# 네이버 아이디, 비밀번호\u001b[39;00m\n\u001b[0;32m     17\u001b[0m me \u001b[39m=\u001b[39m \u001b[39m'\u001b[39m\u001b[39mEmail\u001b[39m\u001b[39m'\u001b[39m \u001b[39m# 보내는 이메일\u001b[39;00m\n\u001b[0;32m     18\u001b[0m you \u001b[39m=\u001b[39m \u001b[39m'\u001b[39m\u001b[39mEmail\u001b[39m\u001b[39m'\u001b[39m \u001b[39m# 받는 이메일\u001b[39;00m\n",
      "File \u001b[1;32mc:\\Python\\311\\Lib\\smtplib.py:750\u001b[0m, in \u001b[0;36mSMTP.login\u001b[1;34m(self, user, password, initial_response_ok)\u001b[0m\n\u001b[0;32m    747\u001b[0m         last_exception \u001b[39m=\u001b[39m e\n\u001b[0;32m    749\u001b[0m \u001b[39m# We could not login successfully.  Return result of last attempt.\u001b[39;00m\n\u001b[1;32m--> 750\u001b[0m \u001b[39mraise\u001b[39;00m last_exception\n",
      "File \u001b[1;32mc:\\Python\\311\\Lib\\smtplib.py:739\u001b[0m, in \u001b[0;36mSMTP.login\u001b[1;34m(self, user, password, initial_response_ok)\u001b[0m\n\u001b[0;32m    737\u001b[0m method_name \u001b[39m=\u001b[39m \u001b[39m'\u001b[39m\u001b[39mauth_\u001b[39m\u001b[39m'\u001b[39m \u001b[39m+\u001b[39m authmethod\u001b[39m.\u001b[39mlower()\u001b[39m.\u001b[39mreplace(\u001b[39m'\u001b[39m\u001b[39m-\u001b[39m\u001b[39m'\u001b[39m, \u001b[39m'\u001b[39m\u001b[39m_\u001b[39m\u001b[39m'\u001b[39m)\n\u001b[0;32m    738\u001b[0m \u001b[39mtry\u001b[39;00m:\n\u001b[1;32m--> 739\u001b[0m     (code, resp) \u001b[39m=\u001b[39m \u001b[39mself\u001b[39;49m\u001b[39m.\u001b[39;49mauth(\n\u001b[0;32m    740\u001b[0m         authmethod, \u001b[39mgetattr\u001b[39;49m(\u001b[39mself\u001b[39;49m, method_name),\n\u001b[0;32m    741\u001b[0m         initial_response_ok\u001b[39m=\u001b[39;49minitial_response_ok)\n\u001b[0;32m    742\u001b[0m     \u001b[39m# 235 == 'Authentication successful'\u001b[39;00m\n\u001b[0;32m    743\u001b[0m     \u001b[39m# 503 == 'Error: already authenticated'\u001b[39;00m\n\u001b[0;32m    744\u001b[0m     \u001b[39mif\u001b[39;00m code \u001b[39min\u001b[39;00m (\u001b[39m235\u001b[39m, \u001b[39m503\u001b[39m):\n",
      "File \u001b[1;32mc:\\Python\\311\\Lib\\smtplib.py:662\u001b[0m, in \u001b[0;36mSMTP.auth\u001b[1;34m(self, mechanism, authobject, initial_response_ok)\u001b[0m\n\u001b[0;32m    660\u001b[0m \u001b[39mif\u001b[39;00m code \u001b[39min\u001b[39;00m (\u001b[39m235\u001b[39m, \u001b[39m503\u001b[39m):\n\u001b[0;32m    661\u001b[0m     \u001b[39mreturn\u001b[39;00m (code, resp)\n\u001b[1;32m--> 662\u001b[0m \u001b[39mraise\u001b[39;00m SMTPAuthenticationError(code, resp)\n",
      "\u001b[1;31mSMTPAuthenticationError\u001b[0m: (535, b'5.7.1 Username and Password not accepted RCJ0xrrASNKGP95NCCsjOg - nsmtp')"
     ]
    }
   ],
   "source": [
    "import smtplib\n",
    "from email.mime.text import MIMEText\n",
    "from email.header import Header\n",
    "from email.mime.application import MIMEApplication\n",
    "from email.mime.multipart import MIMEMultipart\n",
    "from email import charset\n",
    "\n",
    "# 한글 인코딩 설정\n",
    "charset.add_charset('utf-8', charset.QP, charset.QP, 'utf-8')\n",
    "\n",
    "smtp = smtplib.SMTP(\"smtp.naver.com\", 587)\n",
    "smtp.ehlo()\n",
    "smtp.starttls()\n",
    "\n",
    "input_ID = pyautogui.prompt(\"네이버 ID 입력\")\n",
    "input_PW = pyautogui.prompt(\"네이버 PW 입력\")\n",
    "smtp.login(input_ID, input_PW) # 네이버 아이디, 비밀번호\n",
    "\n",
    "input_email = pyautogui.prompt(\"받는 사람 이메일\")\n",
    "\n",
    "me = 'quan0808@naver.com' # 보내는 이메일\n",
    "you = input_email # 받는 이메일\n",
    "subject = input_product + \" 추천 목록\"\n",
    "\n",
    "input_message = pyautogui.prompt(\"본문 내용 입력\")\n",
    "\n",
    "message = input_message\n",
    "\n",
    "msg = MIMEMultipart()\n",
    "msg['Subject'] = Header(subject, 'utf-8')\n",
    "msg['From'] = me\n",
    "msg['To'] = you\n",
    "\n",
    "text = MIMEText(message, 'plain', 'utf-8')\n",
    "msg.attach(text)\n",
    "\n",
    "# 엑셀 파일 첨부\n",
    "file_name = input_product + \".xlsx\"\n",
    "\n",
    "with open(file_name, 'rb') as excel_file:\n",
    "    attachment = MIMEApplication(excel_file.read())\n",
    "    attachment.add_header('Content-Disposition', 'attachment', filename=('utf-8', '', file_name))\n",
    "    msg.attach(attachment)\n",
    "\n",
    "# 메일 보내기\n",
    "smtp.sendmail(me, you, msg.as_string())\n",
    "smtp.quit()\n",
    "print(\"이메일 전송 완료!!\",\"\\n\")"
   ]
  },
  {
   "attachments": {},
   "cell_type": "markdown",
   "metadata": {},
   "source": [
    "# 메일 전송 확인"
   ]
  },
  {
   "cell_type": "code",
   "execution_count": null,
   "metadata": {},
   "outputs": [],
   "source": [
    "\n",
    "driver = webdriver.Chrome(service=service, options=options)\n",
    "driver.maximize_window()\n",
    "url = 'http://naver.com'\n",
    "driver.get(url)\n",
    "driver.implicitly_wait(1)\n",
    "\n",
    "elem = driver.find_element(By.CLASS_NAME, \"MyView-module__link_login___HpHMW\")\n",
    "elem.click()\n",
    "\n",
    "#네이버 아이디 입력\n",
    "id = driver.find_element(By.CSS_SELECTOR, '#id').send_keys(input_ID)\n",
    "id.click()\n",
    "time.sleep(1)"
   ]
  }
 ],
 "metadata": {
  "kernelspec": {
   "display_name": "Python 3",
   "language": "python",
   "name": "python3"
  },
  "language_info": {
   "codemirror_mode": {
    "name": "ipython",
    "version": 3
   },
   "file_extension": ".py",
   "mimetype": "text/x-python",
   "name": "python",
   "nbconvert_exporter": "python",
   "pygments_lexer": "ipython3",
   "version": "3.10.4"
  },
  "orig_nbformat": 4
 },
 "nbformat": 4,
 "nbformat_minor": 2
}
